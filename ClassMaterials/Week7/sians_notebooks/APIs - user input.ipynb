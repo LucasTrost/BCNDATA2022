{
 "cells": [
  {
   "cell_type": "markdown",
   "id": "430341ff",
   "metadata": {},
   "source": [
    "# user input "
   ]
  },
  {
   "cell_type": "code",
   "execution_count": 3,
   "id": "55f41085",
   "metadata": {},
   "outputs": [
    {
     "name": "stdout",
     "output_type": "stream",
     "text": [
      "enter some value: 123\n"
     ]
    }
   ],
   "source": [
    "entered_value=input('enter some value: ')"
   ]
  },
  {
   "cell_type": "code",
   "execution_count": 4,
   "id": "b447ccbe",
   "metadata": {},
   "outputs": [
    {
     "data": {
      "text/plain": [
       "'123'"
      ]
     },
     "execution_count": 4,
     "metadata": {},
     "output_type": "execute_result"
    }
   ],
   "source": [
    "entered_value"
   ]
  },
  {
   "cell_type": "code",
   "execution_count": 12,
   "id": "387b4a55",
   "metadata": {},
   "outputs": [
    {
     "name": "stdout",
     "output_type": "stream",
     "text": [
      "enter your name     Sian\n",
      "enter your shoe size 38\n"
     ]
    }
   ],
   "source": [
    "name=input('enter your name ').lstrip().lower()\n",
    "shoe_size=int(input('enter your shoe size '))"
   ]
  },
  {
   "cell_type": "code",
   "execution_count": 13,
   "id": "e12802f2",
   "metadata": {},
   "outputs": [
    {
     "data": {
      "text/plain": [
       "int"
      ]
     },
     "execution_count": 13,
     "metadata": {},
     "output_type": "execute_result"
    }
   ],
   "source": [
    "type(shoe_size)"
   ]
  },
  {
   "cell_type": "code",
   "execution_count": 14,
   "id": "02ebd621",
   "metadata": {},
   "outputs": [
    {
     "data": {
      "text/plain": [
       "'sian'"
      ]
     },
     "execution_count": 14,
     "metadata": {},
     "output_type": "execute_result"
    }
   ],
   "source": [
    "name"
   ]
  },
  {
   "cell_type": "markdown",
   "id": "c5db3e83",
   "metadata": {},
   "source": [
    "## exception handling "
   ]
  },
  {
   "cell_type": "code",
   "execution_count": 19,
   "id": "e3cbca1a",
   "metadata": {},
   "outputs": [
    {
     "name": "stdout",
     "output_type": "stream",
     "text": [
      "enter your shoe size in whole numbers: sian\n",
      "this is not a whole number, try again....\n"
     ]
    }
   ],
   "source": [
    "try:\n",
    "    shoe_size=int(input('enter your shoe size in whole numbers: '))\n",
    "    print('great job, thats a shoe size. the number is ',shoe_size)\n",
    "\n",
    "except ValueError:\n",
    "    print('this is not a whole number, try again....')"
   ]
  },
  {
   "cell_type": "code",
   "execution_count": 24,
   "id": "64d25f53",
   "metadata": {},
   "outputs": [
    {
     "name": "stdout",
     "output_type": "stream",
     "text": [
      "enter a song... \n",
      "did you forget to enter a song, dumbass?\n"
     ]
    }
   ],
   "source": [
    "if len(input('enter a song... ')) < 2:\n",
    "    print('did you forget to enter a song, dumbass?')"
   ]
  },
  {
   "cell_type": "markdown",
   "id": "9768690d",
   "metadata": {},
   "source": [
    "## is this in a list of values "
   ]
  },
  {
   "cell_type": "code",
   "execution_count": 25,
   "id": "35a4048e",
   "metadata": {},
   "outputs": [],
   "source": [
    "guest_list=['sian','andy','miguel','roger']"
   ]
  },
  {
   "cell_type": "code",
   "execution_count": 26,
   "id": "8dd518b7",
   "metadata": {},
   "outputs": [
    {
     "name": "stdout",
     "output_type": "stream",
     "text": [
      "tell me your name please Cath\n"
     ]
    }
   ],
   "source": [
    "yourname=input('tell me your name please ')"
   ]
  },
  {
   "cell_type": "code",
   "execution_count": 27,
   "id": "9819dadd",
   "metadata": {},
   "outputs": [
    {
     "name": "stdout",
     "output_type": "stream",
     "text": [
      "your name is not down and youre not coming in\n"
     ]
    }
   ],
   "source": [
    "if yourname in guest_list:\n",
    "    print('welcome you are on the guest list, get a free cocktail ')\n",
    "else:\n",
    "    print('your name is not down and youre not coming in')"
   ]
  },
  {
   "cell_type": "markdown",
   "id": "da2edb0f",
   "metadata": {},
   "source": [
    "## select random items "
   ]
  },
  {
   "cell_type": "code",
   "execution_count": 29,
   "id": "abc8ff18",
   "metadata": {},
   "outputs": [],
   "source": [
    "from random import randrange"
   ]
  },
  {
   "cell_type": "code",
   "execution_count": 52,
   "id": "085dd0ed",
   "metadata": {},
   "outputs": [],
   "source": [
    "i=randrange(len(guest_list))"
   ]
  },
  {
   "cell_type": "code",
   "execution_count": 53,
   "id": "664a7ce9",
   "metadata": {},
   "outputs": [],
   "source": [
    "item=guest_list[i]"
   ]
  },
  {
   "cell_type": "code",
   "execution_count": 54,
   "id": "4c1c2c99",
   "metadata": {},
   "outputs": [
    {
     "name": "stdout",
     "output_type": "stream",
     "text": [
      "randomly selected item miguel is present at index: 2\n"
     ]
    }
   ],
   "source": [
    "print('randomly selected item '+ item + ' is present at index: '+str(i)) "
   ]
  },
  {
   "cell_type": "markdown",
   "id": "b0f4dc0a",
   "metadata": {},
   "source": [
    "# APIs"
   ]
  },
  {
   "cell_type": "code",
   "execution_count": null,
   "id": "5d1096ee",
   "metadata": {},
   "outputs": [],
   "source": []
  },
  {
   "cell_type": "code",
   "execution_count": null,
   "id": "463f0fc7",
   "metadata": {},
   "outputs": [],
   "source": []
  },
  {
   "cell_type": "code",
   "execution_count": null,
   "id": "4a9bdb6b",
   "metadata": {},
   "outputs": [],
   "source": []
  },
  {
   "cell_type": "code",
   "execution_count": null,
   "id": "8d431449",
   "metadata": {},
   "outputs": [],
   "source": []
  },
  {
   "cell_type": "code",
   "execution_count": null,
   "id": "bd5e9ec3",
   "metadata": {},
   "outputs": [],
   "source": []
  },
  {
   "cell_type": "code",
   "execution_count": null,
   "id": "07e99ffa",
   "metadata": {},
   "outputs": [],
   "source": []
  },
  {
   "cell_type": "code",
   "execution_count": null,
   "id": "304bad8c",
   "metadata": {},
   "outputs": [],
   "source": []
  },
  {
   "cell_type": "code",
   "execution_count": null,
   "id": "f36baf2d",
   "metadata": {},
   "outputs": [],
   "source": []
  },
  {
   "cell_type": "code",
   "execution_count": null,
   "id": "d807c587",
   "metadata": {},
   "outputs": [],
   "source": []
  }
 ],
 "metadata": {
  "kernelspec": {
   "display_name": "Python 3 (ipykernel)",
   "language": "python",
   "name": "python3"
  },
  "language_info": {
   "codemirror_mode": {
    "name": "ipython",
    "version": 3
   },
   "file_extension": ".py",
   "mimetype": "text/x-python",
   "name": "python",
   "nbconvert_exporter": "python",
   "pygments_lexer": "ipython3",
   "version": "3.9.7"
  },
  "toc": {
   "base_numbering": 1,
   "nav_menu": {},
   "number_sections": true,
   "sideBar": true,
   "skip_h1_title": false,
   "title_cell": "Table of Contents",
   "title_sidebar": "Contents",
   "toc_cell": false,
   "toc_position": {},
   "toc_section_display": true,
   "toc_window_display": false
  },
  "varInspector": {
   "cols": {
    "lenName": 16,
    "lenType": 16,
    "lenVar": 40
   },
   "kernels_config": {
    "python": {
     "delete_cmd_postfix": "",
     "delete_cmd_prefix": "del ",
     "library": "var_list.py",
     "varRefreshCmd": "print(var_dic_list())"
    },
    "r": {
     "delete_cmd_postfix": ") ",
     "delete_cmd_prefix": "rm(",
     "library": "var_list.r",
     "varRefreshCmd": "cat(var_dic_list()) "
    }
   },
   "types_to_exclude": [
    "module",
    "function",
    "builtin_function_or_method",
    "instance",
    "_Feature"
   ],
   "window_display": false
  }
 },
 "nbformat": 4,
 "nbformat_minor": 5
}
